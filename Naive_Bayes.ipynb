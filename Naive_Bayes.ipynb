{
 "cells": [
  {
   "cell_type": "markdown",
   "metadata": {},
   "source": [
    "# Naive Bayes Implementation\n",
    "\n",
    "\n"
   ]
  },
  {
   "cell_type": "markdown",
   "metadata": {},
   "source": [
    "\n",
    "\n",
    "Function to split the data when single file is provided -"
   ]
  },
  {
   "cell_type": "code",
   "execution_count": 1,
   "metadata": {},
   "outputs": [],
   "source": [
    "import pandas as pd\n",
    "import numpy as np\n",
    "import math\n",
    "\n",
    "def splitData(filename, splitValue):\n",
    "    dataset = pd.read_csv(filename)\n",
    "    splitval = np.random.rand(len(dataset)) < splitValue\n",
    "    train = dataset[splitval]\n",
    "    test = dataset[~splitval]\n",
    "    return train, test\n",
    "\n"
   ]
  },
  {
   "cell_type": "markdown",
   "metadata": {},
   "source": [
    "\n",
    "\n",
    "Function to get probablity & standard deviation of column values with 0 & 1 -"
   ]
  },
  {
   "cell_type": "code",
   "execution_count": 2,
   "metadata": {},
   "outputs": [],
   "source": [
    "def getStats(train):\n",
    "    outcomeCol = train.columns[len(train.columns) - 1]\n",
    "\n",
    "    dataframeOfZero = train[train[outcomeCol].isin([0])]\n",
    "    dataframeOfOne = train[train[outcomeCol].isin([1])]\n",
    "    \n",
    "    meanOfZero = dataframeOfZero.mean(axis = 0)\n",
    "    meanOfOne = dataframeOfOne.mean(axis = 0)\n",
    "    stdOfZero = dataframeOfZero.std(axis = 0)\n",
    "    stdOfOne = dataframeOfOne.std(axis = 0)\n",
    "    probOfOne = len(dataframeOfOne)/len(train)\n",
    "    probOfZero = len(dataframeOfZero)/len(train)\n",
    "    \n",
    "    return meanOfZero, meanOfOne, stdOfZero, stdOfOne, probOfZero, probOfOne\n",
    "\n"
   ]
  },
  {
   "cell_type": "markdown",
   "metadata": {},
   "source": [
    "\n",
    "\n",
    "Calculate normal distribution likelihood -"
   ]
  },
  {
   "cell_type": "code",
   "execution_count": 3,
   "metadata": {},
   "outputs": [],
   "source": [
    "def calcProb(columnNames, row, meanOfZero, meanOfOne, stdOfZero, stdOfOne, probOfOne, probOfZero):\n",
    "    probOne = probOfOne\n",
    "    probZero = probOfZero\n",
    "    for i in range(len(columnNames) - 1):\n",
    "        probOne = probOne * normpdf(row[i], meanOfOne[i], stdOfOne[i])\n",
    "        probZero = probZero * normpdf(row[i], meanOfZero[i], stdOfZero[i])\n",
    "    return 1 if probOne > probZero else 0\n",
    "\n"
   ]
  },
  {
   "cell_type": "markdown",
   "metadata": {},
   "source": [
    "\n",
    "\n",
    "Function to calculate normal distribution -"
   ]
  },
  {
   "cell_type": "code",
   "execution_count": 4,
   "metadata": {},
   "outputs": [],
   "source": [
    "def normpdf(x, mean, std):\n",
    "    expn = math.exp(-((x-mean)**2 / (2 * std**2 )))\n",
    "    denominator = (1 / (math.sqrt(2 * math.pi) * std))\n",
    "    return expn * denominator\n",
    "\n"
   ]
  },
  {
   "cell_type": "markdown",
   "metadata": {},
   "source": [
    "\n",
    "\n",
    "Computing consufion matrix -"
   ]
  },
  {
   "cell_type": "code",
   "execution_count": 5,
   "metadata": {},
   "outputs": [],
   "source": [
    "def createConfusionMatrix(actual, pred):\n",
    "    size = len(np.unique(actual))\n",
    "    result = np.zeros((size, size))\n",
    "    for i in range(len(actual)):\n",
    "        result[actual[i]][pred[i]] = result[actual[i]][pred[i]] + 1\n",
    "    return result.astype(int)\n",
    "\n"
   ]
  },
  {
   "cell_type": "markdown",
   "metadata": {},
   "source": [
    "\n",
    "\n",
    "Function to calculate metrics -"
   ]
  },
  {
   "cell_type": "code",
   "execution_count": 6,
   "metadata": {},
   "outputs": [],
   "source": [
    "def calculateMetrics(confusionMatrix):\n",
    "    accuracy = np.trace(confusionMatrix) / np.sum(confusionMatrix)\n",
    "    error = np.trace(confusionMatrix[::-1]) / np.sum(confusionMatrix)\n",
    "    sensitivity = confusionMatrix[1,1] / (confusionMatrix[1,0] + confusionMatrix[1,1])\n",
    "    specificity = confusionMatrix[0,0] / (confusionMatrix[0,0] + confusionMatrix[0,1])\n",
    "    \n",
    "    return accuracy, error, sensitivity, specificity\n",
    "\n"
   ]
  },
  {
   "cell_type": "markdown",
   "metadata": {},
   "source": [
    "\n",
    "\n",
    "Main function -"
   ]
  },
  {
   "cell_type": "code",
   "execution_count": null,
   "metadata": {},
   "outputs": [],
   "source": [
    "def main():\n",
    "    \n",
    "    #Finding length of columns & setting up a list of columns for reading\n",
    "    #This is done for generalizing so that this code can process any csv file\n",
    "    columns = pd.read_csv('train.csv').columns\n",
    "    columnsList = []\n",
    "    for i in range(len(columns)):\n",
    "        columnsList.append(str(i))\n",
    "    \n",
    "    #Read data\n",
    "    train = pd.read_csv('train.csv', names = columnsList)\n",
    "    test = pd.read_csv('test.csv', names = columnsList)\n",
    "    \n",
    "    #Get means & stdev\n",
    "    meanOfZero, meanOfOne, stdOfZero, stdOfOne, probOfZero, probOfOne = getStats(train)\n",
    "    \n",
    "    #Get predicted data\n",
    "    pred = []\n",
    "    for i, row in test.iterrows():\n",
    "        pred.append(calcProb(train.columns, row, meanOfZero, meanOfOne, stdOfZero, stdOfOne, probOfOne, probOfZero))\n",
    "    \n",
    "    #Get actual data\n",
    "    actual = test[test.columns[len(test.columns) - 1]].to_numpy().astype(int)\n",
    "    \n",
    "    #Get confusion matrix\n",
    "    confusionMatrix = createConfusionMatrix(actual, pred)\n",
    "    print(\"Confusion matrix: \")\n",
    "    print(confusionMatrix)\n",
    "    \n",
    "    #Get metrics\n",
    "    accuracy, error, sensitivity, specificity = calculateMetrics(confusionMatrix)\n",
    "    print(\"Accuracy: \", accuracy)\n",
    "    print(\"Error: \", error)\n",
    "    print(\"Sensitivity: \", sensitivity)\n",
    "    print(\"Specificity: \", specificity)\n",
    "    \n",
    "main()    \n",
    "    "
   ]
  },
  {
   "cell_type": "markdown",
   "metadata": {},
   "source": [
    "##### Output - \n",
    "\n",
    "Confusion matrix: \n",
    "\n",
    "[[132  28]\n",
    "\n",
    " [ 36  58]]\n",
    " \n",
    "Accuracy:  0.7480314960629921\n",
    "\n",
    "Error:  0.25196850393700787\n",
    "\n",
    "Sensitivity:  0.6170212765957447\n",
    "\n",
    "Specificity:  0.825"
   ]
  },
  {
   "cell_type": "markdown",
   "metadata": {},
   "source": [
    "A Bayes classifier calculates the posterior probability of the classes using Bayes' rule. Whereas, a naive Bayes classifier assumes independency of features. Bayes and Naive Bayes are similar when used for inference purposes. However, Naive bayes is significantly faster. Although the conditional independence assumption is questionable, naive bayes has surprisingly outperformed many classifiers over a large number of datasets.\n",
    "\n"
   ]
  },
  {
   "cell_type": "markdown",
   "metadata": {},
   "source": [
    "##### From the Confusion Matrix values we can make the following observations:\n",
    "\n",
    "Classification accuracy is the percentage of correct predictions - 75%\n",
    "    \n",
    "Sensitivity shows how 'sensitive' is the classifier to detecting positive instances.\n",
    "\n",
    "Specificity shows how selective is the classifier in predicting positive instances.\n",
    "\n",
    "Hence our model is sensitive and highly specific.\n"
   ]
  },
  {
   "cell_type": "markdown",
   "metadata": {},
   "source": [
    "\n",
    "\n",
    "\n",
    "References - YouTube videos to study NaiveBayes Implementation. Pandas, Numpy library documentation & stackoverflow for usage of functions."
   ]
  }
 ],
 "metadata": {
  "kernelspec": {
   "display_name": "Python 3",
   "language": "python",
   "name": "python3"
  },
  "language_info": {
   "codemirror_mode": {
    "name": "ipython",
    "version": 3
   },
   "file_extension": ".py",
   "mimetype": "text/x-python",
   "name": "python",
   "nbconvert_exporter": "python",
   "pygments_lexer": "ipython3",
   "version": "3.7.4"
  }
 },
 "nbformat": 4,
 "nbformat_minor": 2
}
